{
 "cells":[
  {
   "cell_type":"code",
   "source":[
    "#Autor Josias Dominguez Hernandez\n",
    "def biseccion(a,b):\n",
    "    print(f\"f(a) = {f(a)}\\tf(b) = {f(b)}\")\n",
    "    x = (a+b)\/2\n",
    "    Eencontrado = True\n",
    "    n = 0\n",
    "\n",
    "    while Eencontrado == True:\n",
    "        if f(x)*f(b)<0: \n",
    "          signo = (\"<0\")\n",
    "          a = x\n",
    "        elif f(x)*f(a)<0: \n",
    "          signo = (\">0\") \n",
    "          b = x\n",
    "        xvieja = x\n",
    "        x=(a+b)\/2\n",
    "        error = abs(xvieja-x)\n",
    "        Eencontrado = error > 0.019\n",
    "        n+=1\n",
    "    print(f\"\\nIteracion: {n}\")\n",
    "    print(f\"\\t|xi = {x}\\t|   {signo}   |   Error = {round(error,5)}\\t| [{a} , {b}] |\")\n",
    "    print(\"----------------------------------------------------------------------\\n\\t\\tHasta Aqui llego c:\")\n",
    "\n",
    "#colocamos a,b\n",
    "\n",
    "    "
   ],
   "execution_count":null,
   "outputs":[
    
   ],
   "metadata":{
    "datalore":{
     "node_id":"gQOp4pagxYWOWfYENbpBgC",
     "type":"CODE",
     "hide_input_from_viewers":false,
     "hide_output_from_viewers":false,
     "report_properties":{
      
     }
    }
   }
  },
  {
   "cell_type":"code",
   "source":[
    "def f(x):\n",
    "  return  x**6- 1.2999059*x**5- 26.86516*x**4+ 9.31798*x**3 + 145.75786*x**2 + 79.99707*x - 0.16472\n",
    "\n",
    "biseccion(5,-5)"
   ],
   "execution_count":null,
   "outputs":[
    {
     "name":"stdout",
     "text":[
      "f(a) = -19.416307499997583\tf(b) = 4975.529867500001\n",
      "\n",
      "Iteracion: 9\n",
      "\t|xi = -4.013671875\t|   <0   |   Error = 0.00977\t| [-4.00390625 , -4.0234375] |\n",
      "----------------------------------------------------------------------\n",
      "\t\tHasta Aqui llego c:\n"
     ],
     "output_type":"stream"
    }
   ],
   "metadata":{
    "datalore":{
     "node_id":"QO3ENTnK72B70IZmYfVeVg",
     "type":"CODE",
     "hide_input_from_viewers":false,
     "hide_output_from_viewers":false,
     "report_properties":{
      
     }
    }
   }
  },
  {
   "cell_type":"code",
   "source":[
    "def f(x):\n",
    "  return  x**5 - 5.3219059*x**4 - 5.4604544702*x**3 + 31.2799278791444*x**2 + 19.9499900700812*x - 0.241790061866709\n",
    "\n",
    "biseccion(1,-1)"
   ],
   "execution_count":null,
   "outputs":[
    {
     "name":"stdout",
     "text":[
      "f(a) = 41.20576751715889\tf(b) = 10.226696317396492\n",
      "\n",
      "Iteracion: 6\n",
      "\t|xi = -0.640625\t|   >0   |   Error = 0.01562\t| [-0.625 , -0.65625] |\n",
      "----------------------------------------------------------------------\n",
      "\t\tHasta Aqui llego c:\n"
     ],
     "output_type":"stream"
    }
   ],
   "metadata":{
    "datalore":{
     "node_id":"NQCHc7A8hjWKadoPk7yvQE",
     "type":"CODE",
     "hide_input_from_viewers":false,
     "hide_output_from_viewers":false,
     "report_properties":{
      
     }
    }
   }
  },
  {
   "cell_type":"code",
   "source":[
    "def f(x):\n",
    "  return  x**4 - 5.9887059*x**3 - 1.46718537608*x**2 + 32.2582470879145*x - 1.55980908814022\n",
    "\n",
    "biseccion(5,-5)"
   ],
   "execution_count":null,
   "outputs":[
    {
     "name":"stdout",
     "text":[
      "f(a) = -0.536445550567727\tf(b) = 1174.0575585702875\n",
      "\n",
      "Iteracion: 9\n",
      "\t|xi = -2.119140625\t|   >0   |   Error = 0.00977\t| [-2.109375 , -2.12890625] |\n",
      "----------------------------------------------------------------------\n",
      "\t\tHasta Aqui llego c:\n"
     ],
     "output_type":"stream"
    }
   ],
   "metadata":{
    "datalore":{
     "node_id":"2SS3KUdc0GQqDqmFtwiAmn",
     "type":"CODE",
     "hide_input_from_viewers":false,
     "hide_output_from_viewers":false,
     "report_properties":{
      
     }
    }
   }
  },
  {
   "cell_type":"code",
   "source":[
    "def f(x):\n",
    "  return  x**3 - 8.1087059*x**2 + 15.72327113192*x - 1.07508771175591\n",
    "\n",
    "biseccion(10,-10)"
   ],
   "execution_count":null,
   "outputs":[
    {
     "name":"stdout",
     "text":[
      "f(a) = 345.28703360744413\tf(b) = -1969.178389030956\n",
      "\n",
      "Iteracion: 10\n",
      "\t|xi = 5.009765625\t|   <0   |   Error = 0.00977\t| [5.01953125 , 5.0] |\n",
      "----------------------------------------------------------------------\n",
      "\t\tHasta Aqui llego c:\n"
     ],
     "output_type":"stream"
    }
   ],
   "metadata":{
    "datalore":{
     "node_id":"6G3AYMnEF2mTNnN84h1PmZ",
     "type":"CODE",
     "hide_input_from_viewers":false,
     "hide_output_from_viewers":false,
     "report_properties":{
      
     }
    }
   }
  },
  {
   "cell_type":"code",
   "source":[
    "def f(x):\n",
    "  return  x**2 - 5.0577059*x + 0.292210431019999\n",
    "\n",
    "biseccion(6,-5)"
   ],
   "execution_count":null,
   "outputs":[
    {
     "name":"stdout",
     "text":[
      "f(a) = 5.945975031019998\tf(b) = 50.58073993102\n",
      "\n",
      "Iteracion: 9\n",
      "\t|xi = 0.0595703125\t|   >0   |   Error = 0.01074\t| [0.0703125 , 0.048828125] |\n",
      "----------------------------------------------------------------------\n",
      "\t\tHasta Aqui llego c:\n"
     ],
     "output_type":"stream"
    }
   ],
   "metadata":{
    "datalore":{
     "node_id":"KyPF5MOlQn1lyA9GwoxyQM",
     "type":"CODE",
     "hide_input_from_viewers":false,
     "hide_output_from_viewers":false,
     "report_properties":{
      
     }
    }
   }
  },
  {
   "cell_type":"code",
   "source":[
    "def f(x):\n",
    "  return  x**4 + 40.96188*x**3 - 44.79479708*x**2 - 10.34970*x + 0.25040\n",
    "\n",
    "biseccion(1,2.5)"
   ],
   "execution_count":null,
   "outputs":[
    
   ],
   "metadata":{
    "datalore":{
     "node_id":"JPpB6UHd7R4ZD7QMQYEnV8",
     "type":"CODE",
     "hide_input_from_viewers":false,
     "hide_output_from_viewers":false,
     "report_properties":{
      
     }
    }
   }
  }
 ],
 "metadata":{
  "kernelspec":{
   "display_name":"Python",
   "language":"python",
   "name":"python"
  },
  "datalore":{
   "version":1,
   "computation_mode":"JUPYTER",
   "package_manager":"pip",
   "base_environment":"default",
   "packages":[
    
   ]
  }
 },
 "nbformat":4,
 "nbformat_minor":4
}