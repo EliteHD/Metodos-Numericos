{
 "cells":[
  {
   "cell_type":"code",
   "source":[
    "import numpy as np\n",
    "print(\"Autor: Josias Dominguez Hernandez\")\n",
    "print(\"Metodo de biseccion\")\n",
    "def biseccion(a,b):\n",
    "    print(f\"f(a) = {f(a)}\\tf(b) = {f(b)}\")\n",
    "    x = (a+b)\/2\n",
    "    Eencontrado = True\n",
    "    n = 0\n",
    "\n",
    "    while Eencontrado == True:\n",
    "        if f(x)*f(b)<0: \n",
    "          signo = (\"<0\")\n",
    "          a = x\n",
    "        elif f(x)*f(a)<0: \n",
    "          signo = (\">0\") \n",
    "          b = x\n",
    "        xvieja = x\n",
    "        x=(a+b)\/2\n",
    "        error = abs(xvieja-x)\n",
    "        Eencontrado = error > 0.019\n",
    "        n+=1\n",
    "    print(f\"\\nIteracion: {n}\")\n",
    "    print(f\"\\t|xi = {x}\\t|   {signo}   |   Error = {round(error,5)}\\t| [{a} , {b}] |\")\n",
    "    print(\"----------------------------------------------------------------------\\n\\t\\tHasta Aqui llego c:\")"
   ],
   "execution_count":1,
   "outputs":[
    {
     "name":"stdout",
     "text":[
      "Autor: Josias Dominguez Hernandez\n",
      "Metodo de biseccion\n"
     ],
     "output_type":"stream"
    }
   ],
   "metadata":{
    "datalore":{
     "node_id":"dfyhTfubinLVsMRmlPWZwf",
     "type":"CODE",
     "hide_input_from_viewers":false,
     "hide_output_from_viewers":false,
     "report_properties":{
      "x":0,
      "y":0,
      "height":17
     }
    }
   }
  },
  {
   "cell_type":"code",
   "source":[
    "def f(x):\n",
    "  return x**4 - 0.88133*x**3 - 50.16624*x**2 - 12.33792*x + 443.05694\n",
    "\n",
    "biseccion(5,-5)"
   ],
   "execution_count":3,
   "outputs":[
    {
     "name":"stdout",
     "text":[
      "f(a) = -357.95491\tf(b) = -14.243209999999976\n",
      "\n",
      "Iteracion: 9\n",
      "\t|xi = -4.033203125\t|   >0   |   Error = 0.00977\t| [-4.0234375 , -4.04296875] |\n",
      "----------------------------------------------------------------------\n",
      "\t\tHasta Aqui llego c:\n"
     ],
     "output_type":"stream"
    }
   ],
   "metadata":{
    "datalore":{
     "node_id":"jEB3ZBOX5l0bvYnM8tFFev",
     "type":"CODE",
     "hide_input_from_viewers":false,
     "hide_output_from_viewers":false,
     "report_properties":{
      "x":0,
      "y":17,
      "height":10
     }
    }
   }
  },
  {
   "cell_type":"code",
   "source":[
    "def f(x):\n",
    "  return x**3 - 4.91133*x**2 - 30.3735801*x + 110.067607803\n",
    "\n",
    "biseccion(5,-5)"
   ],
   "execution_count":5,
   "outputs":[
    {
     "name":"stdout",
     "text":[
      "f(a) = -39.58354269700003\tf(b) = 14.15225830300001\n",
      "\n",
      "Iteracion: 9\n",
      "\t|xi = 3.056640625\t|   <0   |   Error = 0.00977\t| [3.06640625 , 3.046875] |\n",
      "----------------------------------------------------------------------\n",
      "\t\tHasta Aqui llego c:\n"
     ],
     "output_type":"stream"
    }
   ],
   "metadata":{
    "datalore":{
     "node_id":"xLLvr2VISJVzTWaLX6JgNg",
     "type":"CODE",
     "hide_input_from_viewers":true,
     "hide_output_from_viewers":true
    }
   }
  },
  {
   "cell_type":"code",
   "source":[
    "def f(x):\n",
    "  return x**2 - 1.86133*x - 36.0506366\n",
    "\n",
    "biseccion(10,-10)"
   ],
   "execution_count":8,
   "outputs":[
    {
     "name":"stdout",
     "text":[
      "f(a) = 45.33606340000001\tf(b) = 82.56266339999999\n",
      "\n",
      "Iteracion: 10\n",
      "\t|xi = -5.146484375\t|   <0   |   Error = 0.00977\t| [-5.13671875 , -5.15625] |\n",
      "----------------------------------------------------------------------\n",
      "\t\tHasta Aqui llego c:\n"
     ],
     "output_type":"stream"
    }
   ],
   "metadata":{
    "datalore":{
     "node_id":"7qK5q3s3hHbHygnRPH27AG",
     "type":"CODE",
     "hide_input_from_viewers":true,
     "hide_output_from_viewers":true
    }
   }
  },
  {
   "cell_type":"code",
   "source":[
    "def f(x):\n",
    "  return x - 7.00133\n",
    "\n",
    "biseccion(5,-5)"
   ],
   "execution_count":14,
   "outputs":[
    {
     "name":"stdout",
     "text":[
      "7.00133\n"
     ],
     "output_type":"stream"
    }
   ],
   "metadata":{
    "datalore":{
     "node_id":"Bh67KJLhqmGCTFJRjfn1Cw",
     "type":"CODE",
     "hide_input_from_viewers":true,
     "hide_output_from_viewers":true
    }
   }
  }
 ],
 "metadata":{
  "kernelspec":{
   "display_name":"Python",
   "language":"python",
   "name":"python"
  },
  "datalore":{
   "version":1,
   "computation_mode":"JUPYTER",
   "package_manager":"pip",
   "base_environment":"default",
   "packages":[
    
   ]
  }
 },
 "nbformat":4,
 "nbformat_minor":4
}