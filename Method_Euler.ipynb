{
  "nbformat": 4,
  "nbformat_minor": 0,
  "metadata": {
    "colab": {
      "provenance": []
    },
    "kernelspec": {
      "name": "python3",
      "display_name": "Python 3"
    },
    "language_info": {
      "name": "python"
    }
  },
  "cells": [
    {
      "cell_type": "code",
      "execution_count": 1,
      "metadata": {
        "colab": {
          "base_uri": "https://localhost:8080/",
          "height": 317
        },
        "id": "T_8zwNoXEqI3",
        "outputId": "8f085e8b-77ce-4e90-b16b-2cb0a15e2a57"
      },
      "outputs": [
        {
          "output_type": "stream",
          "name": "stderr",
          "text": [
            "<ipython-input-1-95a2672a4750>:9: RuntimeWarning: invalid value encountered in sqrt\n",
            "  sol = np.sqrt(x**2-1)\n"
          ]
        },
        {
          "output_type": "stream",
          "name": "stdout",
          "text": [
            "F(x,y) 4.898979485566293 5.009999999999938\n"
          ]
        },
        {
          "output_type": "display_data",
          "data": {
            "text/plain": [
              "<Figure size 432x288 with 1 Axes>"
            ],
            "image/png": "[encoded data removed]"
          },
          "metadata": {
            "needs_background": "light"
          }
        }
      ],
      "source": [
        "# Autor: Josias Dominguez Hernandez\n",
        "# Metodos Numericos\n",
        "import numpy as np \n",
        "import matplotlib.pyplot as plt\n",
        "\n",
        "def funcion(x,y):\n",
        "  ec = 1*x/1*y\n",
        "  return ec\n",
        "\n",
        "def solucion(x,y):\n",
        "  sol = np.sqrt(x**2-1)\n",
        "  return sol\n",
        "\n",
        "h = 0.01\n",
        "s =5\n",
        "n = int((s/h)+1)\n",
        "x = np.zeros(n)\n",
        "y = np.zeros(n)\n",
        "ys = np.zeros(n)\n",
        "\n",
        "for i in np.arange(0,n):\n",
        "  y[i] = y[i-1] + (funcion(x[i-1],y[i-1]))*h\n",
        "  x[i] = x[i-1]+h\n",
        "  ys[i]=solucion(x[i-1],y[i-1])\n",
        "print(\"F(x,y)\",ys[i],x[i])\n",
        "  \n",
        "plt.plot(x,ys,label=\"Euler\",color='red')\n",
        "plt.legend()\n",
        "plt.show()\n",
        "  "
      ]
    }
  ]
}