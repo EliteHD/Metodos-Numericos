{
 "cells":[
  {
   "cell_type":"code",
   "source":[
    "import numpy as np\n",
    "\n",
    "def NewtonRapshon(x):\n",
    "    n = 0\n",
    "    Eencontrado = True\n",
    "    while Eencontrado == True:\n",
    "        xi = cxi(x)\n",
    "        x = xi\n",
    "        Eencontrado = g(x) > 0.019\n",
    "        n += 1\n",
    "    print(f\"\\nIteracion: {n}\\n\\txi = {x}\\tf(x) = {f(x)}\\tf'(x) = {g(x)}\")\n",
    "    print(\"___________________ Hasta aqui llego c:_____________________________\")"
   ],
   "execution_count":13,
   "outputs":[
    
   ],
   "metadata":{
    "datalore":{
     "node_id":"lxys3UNN03dYWh8WnzuS93",
     "type":"CODE",
     "hide_input_from_viewers":false,
     "hide_output_from_viewers":false
    }
   }
  },
  {
   "cell_type":"code",
   "source":[
    "from sympy import *\n",
    "import numpy as np\n",
    "x = Symbol('x')\n",
    "ff = x**5 - 6.91606151*x**4 + 4.28563*x**3 + 32.22872*x**2 - 28.11636*x - 3.88304\n",
    "print(ff.diff(x))"
   ],
   "execution_count":14,
   "outputs":[
    {
     "name":"stdout",
     "text":[
      "5*x**4 - 27.66424604*x**3 + 12.85689*x**2 + 64.45744*x - 28.11636\n"
     ],
     "output_type":"stream"
    }
   ],
   "metadata":{
    "datalore":{
     "node_id":"iFLRWJZUV2izx3eKWBgBZ6",
     "type":"CODE",
     "hide_input_from_viewers":false,
     "hide_output_from_viewers":false
    }
   }
  },
  {
   "cell_type":"code",
   "source":[
    "def f(x):\n",
    "  return x**5 - 6.91606151*x**4 + 4.28563*x**3 + 32.22872*x**2 - 28.11636*x - 3.88304\n",
    "def g(x):\n",
    "  return 5*x**4 - 27.66424604*x**3 + 12.85689*x**2 + 64.45744*x - 28.11636\n",
    "def cxi(x):\n",
    "  return x - (f(x)\/g(x))\n",
    "\n",
    "NewtonRapshon(-0.1)"
   ],
   "execution_count":31,
   "outputs":[
    {
     "name":"stdout",
     "text":[
      "\n",
      "Iteracion: 1\n",
      "\txi = -0.1219182068797321\tf(x) = 0.0145840919060789\tf'(x) = -35.73255226247562\n",
      "___________________ Hasta aqui llego c:_____________________________\n"
     ],
     "output_type":"stream"
    }
   ],
   "metadata":{
    "datalore":{
     "node_id":"wOT5VmOX9zHDzZk6DWiogP",
     "type":"CODE",
     "hide_input_from_viewers":false,
     "hide_output_from_viewers":false
    }
   }
  },
  {
   "cell_type":"code",
   "source":[
    "#DERIVADA\n",
    "ff = x**4 - 7.03706151*x**3 + 5.13711444271*x**2 + 31.6071291524321*x - 31.9408226274443\n",
    "print(ff.diff(x))"
   ],
   "execution_count":33,
   "outputs":[
    {
     "name":"stdout",
     "text":[
      "4*x**3 - 21.11118453*x**2 + 10.27422888542*x + 31.6071291524321\n"
     ],
     "output_type":"stream"
    }
   ],
   "metadata":{
    "datalore":{
     "node_id":"5jn06SOi74gsX7C1lUT1y4",
     "type":"CODE",
     "hide_input_from_viewers":false,
     "hide_output_from_viewers":false
    }
   }
  },
  {
   "cell_type":"code",
   "source":[
    "def f(x):\n",
    "  return x**4 - 7.03706151*x**3 + 5.13711444271*x**2 + 31.6071291524321*x - 31.9408226274443\n",
    "def g(x):\n",
    "  return 4*x**3 - 21.11118453*x**2 + 10.27422888542*x + 31.6071291524321\n",
    "def cxi(x):\n",
    "  return x - (f(x)\/g(x))\n",
    "\n",
    "NewtonRapshon(-2)"
   ],
   "execution_count":42,
   "outputs":[
    {
     "name":"stdout",
     "text":[
      "\n",
      "Iteracion: 1\n",
      "\txi = -2.021920649977409\tf(x) = 0.03444791400667313\tf'(x) = -108.53627798818366\n",
      "___________________ Hasta aqui llego c:_____________________________\n"
     ],
     "output_type":"stream"
    }
   ],
   "metadata":{
    "datalore":{
     "node_id":"CAxZqYbKqbwRhnxMZAjibb",
     "type":"CODE",
     "hide_input_from_viewers":false,
     "hide_output_from_viewers":false
    }
   }
  },
  {
   "cell_type":"code",
   "source":[
    "ff = x**3 - 9.05806151*x**2 + 23.44345675442*x - 15.7720969482507\n",
    "print(ff.diff(x))"
   ],
   "execution_count":44,
   "outputs":[
    {
     "name":"stdout",
     "text":[
      "3*x**2 - 18.11612302*x + 23.44345675442\n"
     ],
     "output_type":"stream"
    }
   ],
   "metadata":{
    "datalore":{
     "node_id":"tPUObdsMgI2xeg7JB7ftn7",
     "type":"CODE",
     "hide_input_from_viewers":false,
     "hide_output_from_viewers":false
    }
   }
  },
  {
   "cell_type":"code",
   "source":[
    "def f(x):\n",
    "  return x**3 - 9.05806151*x**2 + 23.44345675442*x - 15.7720969482507\n",
    "def g(x):\n",
    "  return 3*x**2 - 18.11612302*x + 23.44345675442\n",
    "def cxi(x):\n",
    "  return x - (f(x)\/g(x))\n",
    "\n",
    "NewtonRapshon(3)"
   ],
   "execution_count":61,
   "outputs":[
    {
     "name":"stdout",
     "text":[
      "\n",
      "Iteracion: 1\n",
      "\txi = 3.0091473821213\tf(x) = -4.092870080185662e-06\tf'(x) = -3.905723503417999\n",
      "___________________ Hasta aqui llego c:_____________________________\n"
     ],
     "output_type":"stream"
    }
   ],
   "metadata":{
    "datalore":{
     "node_id":"WXSZ8CvkSvq4FPqzEiJkj2",
     "type":"CODE",
     "hide_input_from_viewers":false,
     "hide_output_from_viewers":false
    }
   }
  },
  {
   "cell_type":"code",
   "source":[
    "ff = x**2 - 6.04906151*x + 5.24183067083\n",
    "print(ff.diff(x))"
   ],
   "execution_count":63,
   "outputs":[
    {
     "name":"stdout",
     "text":[
      "2*x - 6.04906151\n"
     ],
     "output_type":"stream"
    }
   ],
   "metadata":{
    "datalore":{
     "node_id":"Vwj0j8FCdL1PsF2NHb4JgH",
     "type":"CODE",
     "hide_input_from_viewers":false,
     "hide_output_from_viewers":false
    }
   }
  },
  {
   "cell_type":"code",
   "source":[
    "def f(x):\n",
    "  return x**2 - 6.04906151*x + 5.24183067083\n",
    "def g(x):\n",
    "  return 2*x - 6.04906151\n",
    "def cxi(x):\n",
    "  return x - (f(x)\/g(x))\n",
    "\n",
    "NewtonRapshon(1)"
   ],
   "execution_count":68,
   "outputs":[
    {
     "name":"stdout",
     "text":[
      "\n",
      "Iteracion: 1\n",
      "\txi = 1.0476083557520468\tf(x) = 0.00226655553741395\tf'(x) = -3.953844798495906\n",
      "___________________ Hasta aqui llego c:_____________________________\n"
     ],
     "output_type":"stream"
    }
   ],
   "metadata":{
    "datalore":{
     "node_id":"yFX8ZIydhtuSnMWXOujYee",
     "type":"CODE",
     "hide_input_from_viewers":false,
     "hide_output_from_viewers":false
    }
   }
  },
  {
   "cell_type":"code",
   "source":[
    "ff = x - 5.00206151\n",
    "print(ff.diff(x))"
   ],
   "execution_count":70,
   "outputs":[
    {
     "name":"stdout",
     "text":[
      "1\n"
     ],
     "output_type":"stream"
    }
   ],
   "metadata":{
    "datalore":{
     "node_id":"mhbrM2dV2OkQb38owcVSC8",
     "type":"CODE",
     "hide_input_from_viewers":false,
     "hide_output_from_viewers":false
    }
   }
  },
  {
   "cell_type":"code",
   "source":[
    "def f(x):\n",
    "  return x - 5.00206151\n",
    "def g(x):\n",
    "  return 5.00206151\n",
    "def cxi(x):\n",
    "  return x - (f(x)\/g(x))\n",
    "\n",
    "NewtonRapshon(0.1)"
   ],
   "execution_count":91,
   "outputs":[
    {
     "name":"stdout",
     "text":[
      "5.00206151\n"
     ],
     "output_type":"stream"
    }
   ],
   "metadata":{
    "datalore":{
     "node_id":"8VYk2t4AmG0S40gLsVpMSF",
     "type":"CODE",
     "hide_input_from_viewers":false,
     "hide_output_from_viewers":false
    }
   }
  }
 ],
 "metadata":{
  "kernelspec":{
   "display_name":"Python",
   "language":"python",
   "name":"python"
  },
  "datalore":{
   "version":1,
   "computation_mode":"JUPYTER",
   "package_manager":"pip",
   "base_environment":"default",
   "packages":[
    
   ]
  }
 },
 "nbformat":4,
 "nbformat_minor":4
}