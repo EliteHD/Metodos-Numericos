{
 "cells": [
  {
   "cell_type": "code",
   "execution_count": 286,
   "metadata": {},
   "outputs": [],
   "source": [
    "# Autor: Josias Dominguez Hernandez\n",
    "# Metodos Numericos\n",
    "# --CREACION DE LA FUNCION SOBRE METODO DEL PUNTO FIJO PARA LLAMARLO EN CADA F(X)\n",
    "\n",
    "import numpy as np\n",
    "def puntofijo(x):  # x es el valor de prueba para las funciones ej  x= 0.5\n",
    "  i=0\n",
    "  funcion = 100      #Valor de prueba para primer iteracion en la resta del error\n",
    "  Eencontrado = True\n",
    "  while Eencontrado == True:\n",
    "    funanterior = f(x)\n",
    "    xi = g(x)\n",
    "    error = funcion-funanterior\n",
    "    abss = np.abs(error)\n",
    "    funcion = f(x)\n",
    "    x = xi\n",
    "    Eencontrado = abss > 0.019 \n",
    "    funanterior = funcion\n",
    "    i += 1\n",
    "  print(f\"Iteracion: {i} \\n\\txi ={x}\\tf(x)= {funcion}\\tError= {abss}\") \n",
    "  print(\"\\t_______________________________________________________________________\")\n"
   ]
  },
  {
   "cell_type": "code",
   "execution_count": 287,
   "metadata": {},
   "outputs": [],
   "source": [
    "#Funcion Division de polinomios\n",
    "import sympy\n",
    "def divison(P2):\n",
    "    #Definimos los simbolos con la funcion symbols de sympy\n",
    "    sympy.init_printing()\n",
    "    x,y = sympy.symbols('x,y')\n",
    "    P1 = f(x)\n",
    "    d1 = sympy.Poly(P1)\n",
    "    d2 = sympy.Poly(P2)\n",
    "    def div(p1, p2):\n",
    "        return p1 // p2\n",
    "    print(\"Division: \\n\", div(d1, d2))"
   ]
  },
  {
   "cell_type": "code",
   "execution_count": 288,
   "metadata": {},
   "outputs": [
    {
     "name": "stdout",
     "output_type": "stream",
     "text": [
      "Iteracion: 28 \n",
      "\txi =5.005509196243428\tf(x)= -0.07179293580959459\tError= 0.016572577590125093\n",
      "\t_______________________________________________________________________\n"
     ]
    }
   ],
   "source": [
    "# FUNCION 1 x6\n",
    "def f(x):\n",
    "  return  x**6- 1.2999059*x**5- 26.86516*x**4+ 9.31798*x**3 + 145.75786*x**2 + 79.99707*x - 0.16472\n",
    "def g(x):\n",
    "  return  (1.2999059*x**5 + 26.86516*x**4 - 9.31798*x**3 - 145.75786*x**2 - 79.99707*x + 0.16472)**(1/6)\n",
    "\n",
    "# LLAMADA AL METODO PUNTO FIJO\n",
    "puntofijo(5)\n"
   ]
  },
  {
   "cell_type": "code",
   "execution_count": 289,
   "metadata": {},
   "outputs": [
    {
     "name": "stdout",
     "output_type": "stream",
     "text": [
      "Division: \n",
      " Poly(1.0*x**5 + 3.7055941*x**4 - 8.31680873245*x**3 - 32.3118061102785*x**2 - 15.978885484999*x + 0.0147587048375897, x, domain='RR')\n"
     ]
    }
   ],
   "source": [
    "#Division 1\n",
    "divison(x-5.0055)"
   ]
  },
  {
   "cell_type": "code",
   "execution_count": 290,
   "metadata": {},
   "outputs": [
    {
     "name": "stdout",
     "output_type": "stream",
     "text": [
      "Iteracion: 8 \n",
      "\txi =3.0516286598339586\tf(x)= -0.0002459517540387181\tError= 0.004140458976799266\n",
      "\t_______________________________________________________________________\n"
     ]
    }
   ],
   "source": [
    "# FUNCION 2 x5\n",
    "def f(x):\n",
    "  return  x**5 + 3.7055941*x**4 - 8.31680873245*x**3 - 32.3118061102785*x**2 - 15.978885484999*x + 0.0147587048375897\n",
    "def g(x):\n",
    "  return  (-3.7055941*x**4 + 8.31680873245*x**3 + 32.3118061102785*x**2 + 15.978885484999*x - 0.0147587048375897)**(1/5)\n",
    "\n",
    "# LLAMADA AL METODO PUNTO FIJO\n",
    "puntofijo(0.5)"
   ]
  },
  {
   "cell_type": "code",
   "execution_count": 291,
   "metadata": {},
   "outputs": [
    {
     "name": "stdout",
     "output_type": "stream",
     "text": [
      "Division: \n",
      " Poly(1.0*x**4 + 6.7571941*x**3 + 12.30344478311*x**2 + 5.23338598985997*x - 0.00868479834231906, x, domain='RR')\n"
     ]
    }
   ],
   "source": [
    "#Division 2\n",
    "divison(x-3.0516)"
   ]
  },
  {
   "cell_type": "code",
   "execution_count": 292,
   "metadata": {},
   "outputs": [
    {
     "name": "stdout",
     "output_type": "stream",
     "text": [
      "Iteracion: 57 \n",
      "\txi =-2.158657873872749\tf(x)= -0.24704216487661945\tError= 0.017791106322080807\n",
      "\t_______________________________________________________________________\n"
     ]
    }
   ],
   "source": [
    "# FUNCION 3 x4\n",
    "def f(x):\n",
    "  return x**4 + 6.7571941*x**3 + 12.30344478311*x**2 + 5.23338598985997*x - 0.00868479834231906\n",
    "def g(x):\n",
    "  return np.cbrt((-x**4 - 12.30344478311*x**2 - 5.23338598985997*x + 0.00868479834231906)/6.7571941)\n",
    "\n",
    "# LLAMADA AL METODO PUNTO FIJO\n",
    "puntofijo(3)"
   ]
  },
  {
   "cell_type": "code",
   "execution_count": 293,
   "metadata": {},
   "outputs": [
    {
     "name": "stdout",
     "output_type": "stream",
     "text": [
      "Division: \n",
      " Poly(1.0*x**3 + 4.5985941*x**2 + 2.37691955885*x + 0.102567430126361, x, domain='RR')\n"
     ]
    }
   ],
   "source": [
    "#Divison 3\n",
    "divison(x+2.1586)"
   ]
  },
  {
   "cell_type": "code",
   "execution_count": 294,
   "metadata": {},
   "outputs": [
    {
     "name": "stdout",
     "output_type": "stream",
     "text": [
      "Iteracion: 19 \n",
      "\txi =-4.014686852536306\tf(x)= -0.04027464116576489\tError= 0.01611373996198573\n",
      "\t_______________________________________________________________________\n"
     ]
    }
   ],
   "source": [
    "# FUNCION 4 x3\n",
    "def f(x):\n",
    "  return x**3 + 4.5985941*x**2 + 2.37691955885*x + 0.102567430126361\n",
    "def g(x):\n",
    "  return np.cbrt(-4.5985941*x**2 - 2.37691955885*x - 0.102567430126361)\n",
    "\n",
    "# LLAMADA AL METODO PUNTO FIJO\n",
    "puntofijo(5)"
   ]
  },
  {
   "cell_type": "code",
   "execution_count": 295,
   "metadata": {},
   "outputs": [
    {
     "name": "stdout",
     "output_type": "stream",
     "text": [
      "Division: \n",
      " Poly(1.0*x**2 + 0.5839941*x + 0.0324168449900002, x, domain='RR')\n"
     ]
    }
   ],
   "source": [
    "#Divison 4\n",
    "divison(x+4.0146)"
   ]
  },
  {
   "cell_type": "code",
   "execution_count": 296,
   "metadata": {},
   "outputs": [
    {
     "name": "stdout",
     "output_type": "stream",
     "text": [
      "Iteracion: 3 \n",
      "\txi =-0.41151382426046845\tf(x)= -0.025959684954400868\tError= 0.009824170355351963\n",
      "\t_______________________________________________________________________\n"
     ]
    }
   ],
   "source": [
    "# FUNCION 4 x2\n",
    "def f(x):\n",
    "  return x**2 + 0.5839941*x + 0.0324168449900002\n",
    "def g(x):\n",
    "  return (-x**2 - 0.0324168449900002)/0.5839941\n",
    "\n",
    "# LLAMADA AL METODO PUNTO FIJO\n",
    "puntofijo(0.5)"
   ]
  },
  {
   "cell_type": "code",
   "execution_count": 297,
   "metadata": {},
   "outputs": [
    {
     "name": "stdout",
     "output_type": "stream",
     "text": [
      "Division: \n",
      " Poly(1.0*x + 0.1724941, x, domain='RR')\n"
     ]
    }
   ],
   "source": [
    "divison(x+0.4115)"
   ]
  },
  {
   "cell_type": "code",
   "execution_count": 298,
   "metadata": {},
   "outputs": [
    {
     "name": "stdout",
     "output_type": "stream",
     "text": [
      "Iteracion: 3 \n",
      "\txi =-0.1724941\tf(x)= 0.0\tError= 0.0\n",
      "\t_______________________________________________________________________\n"
     ]
    }
   ],
   "source": [
    "# FUNCION 4 x2\n",
    "def f(x):\n",
    "  return x + 0.1724941\n",
    "def g(x):\n",
    "  return -0.1724941\n",
    "\n",
    "# LLAMADA AL METODO PUNTO FIJO\n",
    "puntofijo(0)"
   ]
  }
 ],
 "metadata": {
  "kernelspec": {
   "display_name": "Python 3.10.6 64-bit (microsoft store)",
   "language": "python",
   "name": "python3"
  },
  "language_info": {
   "codemirror_mode": {
    "name": "ipython",
    "version": 3
   },
   "file_extension": ".py",
   "mimetype": "text/x-python",
   "name": "python",
   "nbconvert_exporter": "python",
   "pygments_lexer": "ipython3",
   "version": "3.10.6"
  },
  "orig_nbformat": 4,
  "vscode": {
   "interpreter": {
    "hash": "8a8f75a9c1c0bf1b2ebf9269b83d4dabbab561d892d0724a1025b3458268b5dc"
   }
  }
 },
 "nbformat": 4,
 "nbformat_minor": 2
}
