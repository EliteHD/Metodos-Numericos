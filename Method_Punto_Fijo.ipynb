{
 "cells":[
  {
   "cell_type":"code",
   "source":[
    "# Autor: Josias Dominguez Hernandez\n",
    "# Metodos Numericos\n",
    "# --CREACION DE LA FUNCION SOBRE METODO DEL PUNTO FIJO PARA LLAMARLO EN CADA F(X)\n",
    "\n",
    "import numpy as np\n",
    "def puntofijo(x):  # x es el valor de prueba para las funciones ej  x= 0.5\n",
    "  i=0\n",
    "  funcion = 100      #Valor de prueba para primer iteracion en la resta del error\n",
    "  Eencontrado = True\n",
    "  while Eencontrado == True:\n",
    "    funanterior = f(x)\n",
    "    xi = g(x)\n",
    "    error = funcion-funanterior\n",
    "    abss = np.abs(error)\n",
    "    funcion = f(x)\n",
    "    x = xi\n",
    "    Eencontrado = abss > 0.019 \n",
    "    funanterior = funcion\n",
    "    i += 1\n",
    "  print(f\"Iteracion: {i} \\n\\txi ={x}\\tf(x)= {funcion}\\tError= {abss}\") \n",
    "  print(\"\\t_______________________________________________________________________\")"
   ],
   "execution_count":6,
   "outputs":[
    
   ],
   "metadata":{
    "datalore":{
     "node_id":"H6ieZZRps2GUqIrWV20QzU",
     "type":"CODE",
     "hide_input_from_viewers":false,
     "hide_output_from_viewers":false
    }
   }
  },
  {
   "cell_type":"code",
   "source":[
    "# FUNCION x5\n",
    "def f(x):\n",
    "  return x**4 -0.88133*x**3-50.16624*x**2-12.33792*x+443.05694\n",
    "def g(x):\n",
    "  return  (0.88133*x**3+50.16624*x**2+12.33792*x-443.05694)**(1\/4)\n",
    "\n",
    "# LLAMADA AL METODO PUNTO FIJO\n",
    "puntofijo(5)\n",
    "\n",
    "## DIVISION YA REALZIADA "
   ],
   "execution_count":7,
   "outputs":[
    {
     "name":"stdout",
     "text":[
      "Iteracion: 24 \n",
      "\txi =7.005175822344958\tf(x)= -0.02069814401062331\tError= 0.012985861929450948\n",
      "\t_______________________________________________________________________\n"
     ],
     "output_type":"stream"
    }
   ],
   "metadata":{
    "datalore":{
     "node_id":"5FyRjjuw6jrd92F50RWEdA",
     "type":"CODE",
     "hide_input_from_viewers":false,
     "hide_output_from_viewers":false
    }
   }
  },
  {
   "cell_type":"code",
   "source":[
    "## DIVISION YA REALZIADA \n",
    "\n",
    "# FUNCION x4\n",
    "def f(x):\n",
    "  return x**3 + 6.12367*x**2 - 7.26993165*x - 63.26379120825\n",
    "def g(x):\n",
    "  return  np.cbrt(-6.12367*x**2 + 7.26993165*x + 63.26379120825)\n",
    "\n",
    "# LLAMADA AL METODO PUNTO FIJO\n",
    "puntofijo(5)\n"
   ],
   "execution_count":8,
   "outputs":[
    {
     "name":"stdout",
     "text":[
      "Iteracion: 2177 \n",
      "\txi =3.05174154194851\tf(x)= -0.001878511282761508\tError= 0.0036218297130687915\n",
      "\t_______________________________________________________________________\n"
     ],
     "output_type":"stream"
    }
   ],
   "metadata":{
    "datalore":{
     "node_id":"oY9BYuuMeHAM45A3kCv0wm",
     "type":"CODE",
     "hide_input_from_viewers":false,
     "hide_output_from_viewers":false
    }
   }
  },
  {
   "cell_type":"code",
   "source":[
    "## DIVISION YA REALZIADA \n",
    "\n",
    "# FUNCION x3\n",
    "def f(x):\n",
    "  return x**2 + 9.17367*x + 20.70976185\n",
    "def g(x):\n",
    "  return  (-x**2 - 20.70976185)\/(9.17367)\n",
    "\n",
    "# LLAMADA AL METODO PUNTO FIJO\n",
    "puntofijo(-4)"
   ],
   "execution_count":40,
   "outputs":[
    {
     "name":"stdout",
     "text":[
      "Iteracion: 2 \n",
      "\txi =-4.003078031619035\tf(x)= 0.013154996322587209\tError= 0.0019268536774141864\n",
      "\t_______________________________________________________________________\n"
     ],
     "output_type":"stream"
    }
   ],
   "metadata":{
    "datalore":{
     "node_id":"lSqe4pZEXIiHiF55fQNFZ9",
     "type":"CODE",
     "hide_input_from_viewers":false,
     "hide_output_from_viewers":false
    }
   }
  },
  {
   "cell_type":"code",
   "source":[
    "## DIVISION YA REALZIADA \n",
    "\n",
    "# FUNCION x2\n",
    "def f(x):\n",
    "  return x + 5.17367\n",
    "def g(x):\n",
    "  return  -5.17367\n",
    "\n",
    "\n",
    "# LLAMADA AL METODO PUNTO FIJO\n",
    "puntofijo(5)"
   ],
   "execution_count":41,
   "outputs":[
    {
     "name":"stdout",
     "text":[
      "Iteracion: 3 \n",
      "\txi =-5.17367\tf(x)= 0.0\tError= 0.0\n",
      "\t_______________________________________________________________________\n"
     ],
     "output_type":"stream"
    }
   ],
   "metadata":{
    "datalore":{
     "node_id":"HaUXyPXQgInEv2lYVAShoj",
     "type":"CODE",
     "hide_input_from_viewers":false,
     "hide_output_from_viewers":false
    }
   }
  }
 ],
 "metadata":{
  "kernelspec":{
   "display_name":"Python",
   "language":"python",
   "name":"python"
  },
  "datalore":{
   "version":1,
   "computation_mode":"JUPYTER",
   "package_manager":"pip",
   "base_environment":"default",
   "packages":[
    
   ]
  }
 },
 "nbformat":4,
 "nbformat_minor":4
}