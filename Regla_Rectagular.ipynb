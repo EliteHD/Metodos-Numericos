{
 "cells":[
  {
   "cell_type":"code",
   "source":[
    "import numpy as np  \n",
    "from pylab import *"
   ],
   "execution_count":2,
   "outputs":[
    
   ],
   "metadata":{
    "datalore":{
     "node_id":"ZUmsLcC6JawSUDrrmUNVTW",
     "type":"CODE",
     "hide_input_from_viewers":false,
     "hide_output_from_viewers":false,
     "report_properties":{
      
     }
    }
   }
  },
  {
   "cell_type":"code",
   "source":[
    "# Autor: Josias Dominguez Hernandez\n",
    "# Metodo integracion Rectangular\n",
    "\n",
    "def Rectuangulo(a,b,at):\n",
    "    suma = 0\n",
    "    suma2 = 0\n",
    "    atoriginal = at\n",
    "    v1=0\n",
    "    for i in range(b):\n",
    "        print(\"at\",at)\n",
    "\n",
    "        fa = integral(at)\n",
    "        print(f\"Valor1 = {v1}  Valor2 = {fa}\")\n",
    "        if fa > v1:\n",
    "            print(\"\\tTome a este [\",fa,\"\\n\")\n",
    "            s =fa\n",
    "            s2 = v1\n",
    "        else:\n",
    "            print(\"\\tTome a este [\",v1,\"\\n\")\n",
    "            s=v1\n",
    "            s2 = fa\n",
    "        at+=atoriginal\n",
    "        v1 = fa\n",
    "\n",
    "        suma+=s\n",
    "        suma2+=s2\n",
    "        \n",
    "    print(\"F(a)\",suma)\n",
    "    print(\"F(b)\",suma2)\n",
    "\n",
    "    return \n",
    "\n",
    "\n",
    "def integral(x):\n",
    "   return abs(np.sin(2*x)+3*np.sin(10*x))\n",
    "\n",
    "\n",
    "Rectuangulo(0,10,1)"
   ],
   "execution_count":5,
   "outputs":[
    {
     "name":"stdout",
     "text":[
      "at 1\n",
      "Valor1 = 0  Valor2 = 0.7227659058424276\n",
      "\tTome a este [ 0.7227659058424276 \n",
      "\n",
      "at 2\n",
      "Valor1 = 0.7227659058424276  Valor2 = 1.9820332568749548\n",
      "\tTome a este [ 1.9820332568749548 \n",
      "\n",
      "at 3\n",
      "Valor1 = 1.9820332568749548  Valor2 = 3.2435103704775115\n",
      "\tTome a este [ 3.2435103704775115 \n",
      "\n",
      "at 4\n",
      "Valor1 = 3.2435103704775115  Valor2 = 3.2246977280614284\n",
      "\tTome a este [ 3.2435103704775115 \n",
      "\n",
      "at 5\n",
      "Valor1 = 3.2246977280614284  Valor2 = 1.331145672001156\n",
      "\tTome a este [ 3.2246977280614284 \n",
      "\n",
      "at 6\n",
      "Valor1 = 1.331145672001156  Valor2 = 1.451004781307085\n",
      "\tTome a este [ 1.451004781307085 \n",
      "\n",
      "at 7\n",
      "Valor1 = 1.451004781307085  Valor2 = 3.3122794003685376\n",
      "\tTome a este [ 3.3122794003685376 \n",
      "\n",
      "at 8\n",
      "Valor1 = 3.3122794003685376  Valor2 = 3.269569278435191\n",
      "\tTome a este [ 3.3122794003685376 \n",
      "\n",
      "at 9\n",
      "Valor1 = 3.269569278435191  Valor2 = 1.9310027440299973\n",
      "\tTome a este [ 3.269569278435191 \n",
      "\n",
      "at 10\n",
      "Valor1 = 1.9310027440299973  Valor2 = 0.6061516726016487\n",
      "\tTome a este [ 1.9310027440299973 \n",
      "\n",
      "F(a) 25.692653236243185\n",
      "F(b) 15.849516711155047\n"
     ],
     "output_type":"stream"
    }
   ],
   "metadata":{
    "datalore":{
     "node_id":"PlsH1ZxAJol1z7ikGN20oI",
     "type":"CODE",
     "hide_input_from_viewers":false,
     "hide_output_from_viewers":false,
     "report_properties":{
      
     }
    }
   }
  },
  {
   "cell_type":"code",
   "source":[
    "x = np.linspace(-3, 3, 256,endpoint=True)\n",
    "C = abs(np.sin(2*x)+3*np.sin(10*x))\n",
    "plot(x,C,color='r')\n",
    "show()"
   ],
   "execution_count":4,
   "outputs":[
    {
     "data":{
      "image\/png":"[encoded data removed]"
     },
     "metadata":{
      "image\/png":{
       
      }
     },
     "output_type":"display_data"
    }
   ],
   "metadata":{
    "datalore":{
     "node_id":"m5OSEwGIcHDCOVgp0CvTG2",
     "type":"CODE",
     "hide_input_from_viewers":false,
     "hide_output_from_viewers":false,
     "report_properties":{
      
     }
    }
   }
  },
  {
   "cell_type":"code",
   "source":[
    "# Con una FUNCION\n",
    "import math\n",
    "def f(x):\n",
    "  funcion=abs(np.sin(2*x)+3*np.sin(10*x))\n",
    "  return funcion\n",
    "a=0\n",
    "b=10\n",
    "n=20\n",
    "Sumatoria=0\n",
    "h=.5\n",
    "for i in range(0,n):\n",
    "  Xi=a+i*h\n",
    "  print(Xi)\n",
    "  Sumatoria=Sumatoria+f(Xi)\n",
    "  resultado=(h\/2)*(f(a)+f(b))+(h*Sumatoria)\n",
    "  print ('Resultado:',resultado)"
   ],
   "execution_count":7,
   "outputs":[
    {
     "name":"stdout",
     "text":[
      "0.0\n",
      "Resultado: 0.15153791815041218\n",
      "0.5\n",
      "Resultado: 1.1691888377411714\n",
      "1.0\n",
      "Resultado: 1.5305717906623852\n",
      "1.5\n",
      "Resultado: 2.5765635549279944\n",
      "2.0\n",
      "Resultado: 3.5675801833654717\n",
      "2.5\n",
      "Resultado: 4.2455699458437\n",
      "3.0\n",
      "Resultado: 5.867325131082456\n",
      "3.5\n",
      "Resultado: 6.181105835967288\n",
      "4.0\n",
      "Resultado: 7.793454699998002\n",
      "4.5\n",
      "Resultado: 9.275869229420058\n",
      "5.0\n",
      "Resultado: 9.941442065420636\n",
      "5.5\n",
      "Resultado: 11.941069928733919\n",
      "6.0\n",
      "Resultado: 12.66657231938746\n",
      "6.5\n",
      "Resultado: 14.116898857035936\n",
      "7.0\n",
      "Resultado: 15.773038557220206\n",
      "7.5\n",
      "Resultado: 16.029567090255792\n",
      "8.0\n",
      "Resultado: 17.66435172947339\n",
      "8.5\n",
      "Resultado: 18.409163905336047\n",
      "9.0\n",
      "Resultado: 19.374665277351045\n",
      "9.5\n",
      "Resultado: 20.474496454286705\n"
     ],
     "output_type":"stream"
    }
   ],
   "metadata":{
    "datalore":{
     "node_id":"YKWwrw7RjF6jzMkqld7Eeg",
     "type":"CODE",
     "hide_input_from_viewers":false,
     "hide_output_from_viewers":false,
     "report_properties":{
      
     }
    }
   }
  },
  {
   "cell_type":"code",
   "source":[
    "\"\"\"\"\"\"\"\"\"\"\"\"\"\"\"\"\"\"\"\"\"\"\"\"\"\"\"\"\"\"\"\"\"\"\"222"
   ],
   "execution_count":null,
   "outputs":[
    
   ],
   "metadata":{
    "datalore":{
     "node_id":"MK6kFUNW3Ix8p7l6ntjqL2",
     "type":"CODE",
     "hide_input_from_viewers":false,
     "hide_output_from_viewers":false,
     "report_properties":{
      
     }
    }
   }
  },
  {
   "cell_type":"code",
   "source":[
    "import xlrd\n",
    "import numpy as np\n",
    "\n",
    "book = xlrd.open_workbook('senal_celular.xls')\n",
    "sheet = book.sheet_by_name('Hoja1')\n",
    "data = [[sheet.cell_value(r, c) \n",
    "  for c in range(sheet.ncols)]\n",
    "  for r in range(sheet.nrows)]\n",
    "\n",
    "print(\"Datos Originales\\n\")\n",
    "\n",
    "r = np.array(data)\n",
    "excel = np.array(data)\n",
    "final = len(r)\n"
   ],
   "execution_count":62,
   "outputs":[
    {
     "name":"stdout",
     "text":[
      "Datos Originales\n",
      "\n"
     ],
     "output_type":"stream"
    }
   ],
   "metadata":{
    "datalore":{
     "node_id":"kU1nR22VMM7Uoq6w07gCbl",
     "type":"CODE",
     "hide_input_from_viewers":false,
     "hide_output_from_viewers":false,
     "report_properties":{
      
     }
    }
   }
  },
  {
   "cell_type":"code",
   "source":[
    "\n",
    "def Rectuangulo(at,final,r):\n",
    "    suma = 0\n",
    "    suma2 = 0\n",
    "    atoriginal = at\n",
    "    v1=0\n",
    "    for i in range(final):\n",
    "        #print(\"at\",at)\n",
    "\n",
    "        fa = r[i]\n",
    "        #print(f\"Valor1 = {v1}  Valor2 = {fa}\")\n",
    "        if fa > v1:\n",
    "            #print(\"\\tTome a este [\",fa,\"\\n\")\n",
    "            s =fa\n",
    "            s2 = v1\n",
    "        else:\n",
    "            #print(\"\\tTome a este [\",v1,\"\\n\")\n",
    "            s=v1\n",
    "            s2 = fa\n",
    "        at+=atoriginal\n",
    "        v1 = fa\n",
    "        suma+=s\n",
    "        suma2+=s2\n",
    "    print(\"F(a)\",suma)\n",
    "    print(\"F(b)\",suma2)\n",
    "    print(\"Punto Medio: 5229502.6599\")\n",
    "    return \n",
    "\n",
    "Rectuangulo(1,final,r)"
   ],
   "execution_count":66,
   "outputs":[
    {
     "name":"stdout",
     "text":[
      "F(a) [5232726.82999996]\n",
      "F(b) [5227869.32999996]\n",
      "Punto Medio: 5229502.6599\n"
     ],
     "output_type":"stream"
    }
   ],
   "metadata":{
    "datalore":{
     "node_id":"mmPkhONiyMtOgfXRx1lkuI",
     "type":"CODE",
     "hide_input_from_viewers":false,
     "hide_output_from_viewers":false,
     "report_properties":{
      
     }
    }
   }
  },
  {
   "cell_type":"code",
   "source":[
    "import math\n",
    "\n",
    "a=0\n",
    "b=final\n",
    "n=20\n",
    "Sumatoria=0\n",
    "h=1\n",
    "t=0\n",
    "for i in range(0,final):\n",
    "  t+=1\n",
    "  Xi=a+i*h\n",
    "  Sumatoria=Sumatoria+r[t-1]\n",
    "  resultado=(h\/2)*(r[t-1]+r[t-1])+(h*Sumatoria)\n",
    "print ('Metodo Trapecio:',resultado)"
   ],
   "execution_count":65,
   "outputs":[
    {
     "name":"stdout",
     "text":[
      "Metodo Trapecio: [5231113.62999996]\n"
     ],
     "output_type":"stream"
    }
   ],
   "metadata":{
    "datalore":{
     "node_id":"WmkoijR3N6OlzxJs41OBu5",
     "type":"CODE",
     "hide_input_from_viewers":false,
     "hide_output_from_viewers":false,
     "report_properties":{
      
     }
    }
   }
  },
  {
   "cell_type":"code",
   "source":[
    "\"\"\"\"\"\"\"\"\"\"\"\"\"\"\"\"\"\"\"\"\"\"\"\"\"22"
   ],
   "execution_count":null,
   "outputs":[
    
   ],
   "metadata":{
    "datalore":{
     "node_id":"PxsIwGpRqjgcPoXKIGJ9r7",
     "type":"CODE",
     "hide_input_from_viewers":false,
     "hide_output_from_viewers":false,
     "report_properties":{
      
     }
    }
   }
  },
  {
   "cell_type":"code",
   "source":[
    "import xlrd\n",
    "import numpy as np\n",
    "\n",
    "book = xlrd.open_workbook('Temperatura.xls')\n",
    "sheet = book.sheet_by_name('Hoja1')\n",
    "data = [[sheet.cell_value(r, c) \n",
    "  for c in range(sheet.ncols)]\n",
    "  for r in range(sheet.nrows)]\n",
    "\n",
    "print(\"Datos Originales\\n\")\n",
    "\n",
    "excel = np.array(data)\n",
    "\n",
    "final = len(excel)"
   ],
   "execution_count":29,
   "outputs":[
    {
     "name":"stdout",
     "text":[
      "Datos Originales\n",
      "\n"
     ],
     "output_type":"stream"
    }
   ],
   "metadata":{
    "datalore":{
     "node_id":"v71ABMAIJJM7ou30mOx6Fo",
     "type":"CODE",
     "hide_input_from_viewers":false,
     "hide_output_from_viewers":false,
     "report_properties":{
      
     }
    }
   }
  },
  {
   "cell_type":"code",
   "source":[
    "at = 1\n",
    "a= 0\n",
    "b = 0\n",
    "ato = at \n",
    "inicial = 0\n",
    "z=0\n",
    "for i in data:\n",
    "    z+=1\n",
    "    datoss = excel[z-1]\n",
    "    if datoss > inicial:\n",
    "        vtemp = datoss\n",
    "        vtemp2 = inicial\n",
    "    else:\n",
    "        vtemp = inicial\n",
    "        vtemp2 = datoss\n",
    "    at+=ato\n",
    "    inicial = datoss\n",
    "\n",
    "    a+=vtemp\n",
    "    b+=vtemp2\n",
    "\n",
    "print(f\"Area superir {a}\\nArea Inferior {b}\")"
   ],
   "execution_count":67,
   "outputs":[
    {
     "name":"stdout",
     "text":[
      "Area superir [5232726.82999996]\n",
      "Area Inferior [5227869.32999996]\n"
     ],
     "output_type":"stream"
    }
   ],
   "metadata":{
    "datalore":{
     "node_id":"rhpH0HPH0YojGua3gKXp2c",
     "type":"CODE",
     "hide_input_from_viewers":false,
     "hide_output_from_viewers":false,
     "report_properties":{
      
     }
    }
   }
  },
  {
   "cell_type":"code",
   "source":[
    "import math\n",
    "\n",
    "a=0\n",
    "b=final\n",
    "n=20\n",
    "Sumatoria=0\n",
    "h=1\n",
    "t=0\n",
    "for i in range(0,final):\n",
    "  t+=1\n",
    "  Xi=a+i*h\n",
    "  Sumatoria=Sumatoria+excel[t-1]\n",
    "  resultado=(h\/2)*(excel[t-1]+excel[t-1])+(h*Sumatoria)\n",
    "print ('Trapecio:',resultado)"
   ],
   "execution_count":68,
   "outputs":[
    {
     "name":"stdout",
     "text":[
      "Trapecio: [5231113.62999996]\n"
     ],
     "output_type":"stream"
    }
   ],
   "metadata":{
    "datalore":{
     "node_id":"60Ej0DkrmFihUK0RBiWiF8",
     "type":"CODE",
     "hide_input_from_viewers":false,
     "hide_output_from_viewers":false,
     "report_properties":{
      
     }
    }
   }
  }
 ],
 "metadata":{
  "kernelspec":{
   "display_name":"Python",
   "language":"python",
   "name":"python"
  },
  "datalore":{
   "version":1,
   "computation_mode":"JUPYTER",
   "package_manager":"pip",
   "base_environment":"default",
   "packages":[
    
   ]
  }
 },
 "nbformat":4,
 "nbformat_minor":4
}