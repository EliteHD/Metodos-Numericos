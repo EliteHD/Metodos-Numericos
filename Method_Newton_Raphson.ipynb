{
  "nbformat": 4,
  "nbformat_minor": 0,
  "metadata": {
    "colab": {
      "provenance": []
    },
    "kernelspec": {
      "name": "python3",
      "display_name": "Python 3"
    },
    "language_info": {
      "name": "python"
    }
  },
  "cells": [
    {
      "cell_type": "code",
      "source": [
        "from sympy import *\n",
        "import numpy as np"
      ],
      "metadata": {
        "id": "Ma9LEAow_IKB"
      },
      "execution_count": null,
      "outputs": []
    },
    {
      "cell_type": "code",
      "execution_count": null,
      "metadata": {
        "colab": {
          "base_uri": "https://localhost:8080/"
        },
        "id": "lz3knj31gdp_",
        "outputId": "ea1c47ea-7ca7-4c4b-b43f-6506f2ca6714"
      },
      "outputs": [
        {
          "output_type": "stream",
          "name": "stdout",
          "text": [
            "Iteracion: 0 |\txi = 2\t\t|f(x) = 63\t\t|f'(x) = 16\n",
            "----------------------------------------------------------------------\n",
            "Iteracion: 5 |\txi = -4.9994\t|f(x) = 0.0013\t\t|f'(x) = 2.0013\n",
            "_______________________________________________________________________\n",
            "\t\tHasta aqui llego c:\n"
          ]
        }
      ],
      "source": [
        "# Autor: Josias Dominguez Hernandez\n",
        "# Metodos Numericos: Vladimir \n",
        "def f(x):\n",
        "  return x**2 + 12*x + 35\n",
        "def g(x):\n",
        "  return 2*x + 12\n",
        "\n",
        "\n",
        "def xx(x):\n",
        "  return x - (f(x)/g(x))\n",
        "x = 2\n",
        "fun1 = f(x)\n",
        "fun2 = g(x)\n",
        "xi =  xx(x)\n",
        "print(f\"Iteracion: 0 |\\txi = {x}\\t\\t|f(x) = {round(fun1,4)}\\t\\t|f'(x) = {round(fun2,4)}\")\n",
        "print(\"----------------------------------------------------------------------\")\n",
        "for n in range(1000000):   \n",
        "  x = xi\n",
        "  fun = f(x)\n",
        "  funn  = g(x)\n",
        "  xi = xx(x)\n",
        "  \n",
        "  if(f(x) <= 0.019):\n",
        "    print(f\"Iteracion: {n+1} |\\txi = {round(x,4)}\\t|f(x) = {round(fun,4)}\\t\\t|f'(x) = {round(funn,4)}\")\n",
        "    print(\"_______________________________________________________________________\")\n",
        "    print(\"\\t\\tHasta aqui llego c:\")\n",
        "    break"
      ]
    },
    {
      "cell_type": "code",
      "source": [
        "# Codigo para Derivar\n",
        "from sympy import *\n",
        "import numpy as np\n",
        "\n",
        "x = Symbol('x')\n",
        "y = x**2 + 12*x + 35  #Aqui se coloca la funcion a derivar para despues ejecutar\n",
        "\n",
        "yprime = y.diff(x)\n",
        "print(yprime)\n",
        "y1 = yprime\n"
      ],
      "metadata": {
        "id": "IH5YN2_n04HX",
        "colab": {
          "base_uri": "https://localhost:8080/"
        },
        "outputId": "ec10e62d-4b36-4532-a191-17f4689c25a4"
      },
      "execution_count": null,
      "outputs": [
        {
          "output_type": "stream",
          "name": "stdout",
          "text": [
            "2*x + 12\n"
          ]
        }
      ]
    },
    {
      "cell_type": "code",
      "source": [
        "# Codigo para Division de Polinomios\n",
        "import sympy\n",
        "P1 = x**2 + 12*x + 35 # Funcion a Dividir\n",
        "P2 = x + 5  \n",
        "#Definimos los simbolos con la funcion symbols de sympy\n",
        "sympy.init_printing()\n",
        "x,y = sympy.symbols('x,y')\n",
        "#Almacenamos en variables los dos polinomios procesados por la función Poly de sympy\n",
        "d1 = sympy.Poly(P1)\n",
        "d2 = sympy.Poly(P2)\n",
        "#Declaramos una función para cada operación que queramos utilizar\n",
        "def div(p1, p2):\n",
        "    return p1 // p2\n",
        "\n",
        "print(\"Division: \", div(d1, d2))\n"
      ],
      "metadata": {
        "colab": {
          "base_uri": "https://localhost:8080/"
        },
        "id": "4EhTbJFbXOID",
        "outputId": "feb8a2a0-a4b4-4083-c0ef-9cbf21830745"
      },
      "execution_count": null,
      "outputs": [
        {
          "output_type": "stream",
          "name": "stdout",
          "text": [
            "Division:  Poly(x + 7, x, domain='ZZ')\n"
          ]
        }
      ]
    }
  ]
}
