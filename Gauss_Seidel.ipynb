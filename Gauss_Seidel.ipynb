{
  "nbformat": 4,
  "nbformat_minor": 0,
  "metadata": {
    "colab": {
      "provenance": []
    },
    "kernelspec": {
      "name": "python3",
      "display_name": "Python 3"
    },
    "language_info": {
      "name": "python"
    }
  },
  "cells": [
    {
      "cell_type": "code",
      "source": [
        "def fx(x,y,z):\n",
        "  return 3*x - 0.1*y - 0.2*z  \n",
        "def fy(x,y,z):\n",
        "  return 0.1*x + 7*y - 0.3*z \n",
        "def fz(x,y,z):\n",
        "  return 0.3*x - 0.2*y - 10*z \n",
        "\n",
        "\n",
        "def f1(y, z):\n",
        "    return (7.85 + 0.1*y + 0.2*z)/3\n",
        "def f2(x, z):\n",
        "    return (-19.30 -0.1*x +0.3*z)/7\n",
        "def f3(x, y):\n",
        "    return (71.40 -0.3*x + 0.2*y)/-10\n",
        "\n",
        "x0 = 0\n",
        "y0 = 0\n",
        "z0 = 0\n",
        "e = 0.0019\n",
        "x = 0\n",
        "print(f'y1 = {y0}  z1 = {z0}  x1 = {f1(y0,z0)} \\n')\n",
        "\n",
        "ar = True\n",
        "while ar == True:\n",
        "#for n in range(20000):\n",
        "    x1 = f1(y0, z0)\n",
        "    y1 = f2(x1, z0)\n",
        "    z1 = f3(x1, y1)\n",
        "\n",
        "    \n",
        "    e1 = abs(x0-x1)\n",
        "    e2 = abs(y0-y1)\n",
        "    e3 = abs(z0-z1)\n",
        "\n",
        "    z0 = z1 \n",
        "    x0 = x1\n",
        "    y0 = y1\n",
        "    \n",
        "    ar = e1 > e and e2 > e and e3 > e\n",
        "    print(f'\\tx1 = {x1} y1 = {y1}  z1 = {z1}')\n",
        "    print(f'\\tError1 = {e1}  Error2 = {e2}  Error3 = {e3}') \n",
        "    print(\"\\t_______________________________________________________________________\\n\")\n",
        "      \n",
        "print(\"\\n\\nComprabacion\\n\")\n",
        "\n",
        "xx = fx(x1,y1,z1)\n",
        "yy = fy(x1,y1,z1)\n",
        "zz = fz(x1,y1,z1)\n",
        "\n",
        "print(f'1° {xx}\\n2° {yy}\\n3° {zz}')"
      ],
      "metadata": {
        "colab": {
          "base_uri": "https://localhost:8080/"
        },
        "id": "s0L5zQDLf1Uy",
        "outputId": "6004f800-8b84-41ce-de0e-f9f1d0a9ab01"
      },
      "execution_count": null,
      "outputs": [
        {
          "output_type": "stream",
          "name": "stdout",
          "text": [
            "y1 = 0  z1 = 0  x1 = 2.6166666666666667 \n",
            "\n",
            "\tx1 = 2.6166666666666667 y1 = -2.7945238095238096  z1 = -7.005609523809525\n",
            "\tError1 = 2.6166666666666667  Error2 = 2.7945238095238096  Error3 = 7.005609523809525\n",
            "\t_______________________________________________________________________\n",
            "\n",
            "\tx1 = 2.056475238095238 y1 = -3.0867614829931975  z1 = -7.01657051319728\n",
            "\tError1 = 0.5601914285714287  Error2 = 0.2922376734693879  Error3 = 0.010960989387754694\n",
            "\t_______________________________________________________________________\n",
            "\n",
            "\tx1 = 2.046003249687075 y1 = -3.087081639846842  z1 = -7.016878269712452\n",
            "\tError1 = 0.010471988408163213  Error2 = 0.0003201568536446153  Error3 = 0.00030775651517167546\n",
            "\t_______________________________________________________________________\n",
            "\n",
            "\n",
            "\n",
            "Comprabacion\n",
            "\n",
            "1° 7.850093566988399\n",
            "2° -19.29990767304545\n",
            "3° 71.4\n"
          ]
        }
      ]
    },
    {
      "cell_type": "code",
      "source": [
        "\n",
        "def fx(x,y,z):\n",
        "  return 3*x - 1*y + 1*z \n",
        "def fy(x,y,z):\n",
        "  return 0.5*x + 5*y - 0.25*z \n",
        "def fz(x,y,z):\n",
        "  return 0.1*x + 0.2*y + 7*z \n",
        "\n",
        "def f1(y, z):\n",
        "    return (12 + 1*y - 1*z)/3\n",
        "def f2(x, z):\n",
        "    return (10-0.5*x + 0.25*z)/5\n",
        "def f3(x, y):\n",
        "    return (14 - 0.1*x -0.2*y)/7\n",
        "\n",
        "\n",
        "x0 = 0\n",
        "y0 = 0\n",
        "z0 = 0\n",
        "e = 0.0019\n",
        "x = 0\n",
        "print(f'y1 = {y0}  z1 = {z0}  x1 = {f1(y0,z0)} \\n')\n",
        "\n",
        "\n",
        "ar = True\n",
        "while ar == True:\n",
        "#for n in range(20000):\n",
        "    x1 = f1(y0, z0)\n",
        "    y1 = f2(x1, z0)\n",
        "    z1 = f3(x1, y1)\n",
        "   \n",
        "    e1 = abs(x0-x1)\n",
        "    e2 = abs(y0-y1)\n",
        "    e3 = abs(z0-z1)\n",
        "\n",
        "    z0 = z1 \n",
        "    x0 = x1\n",
        "    y0 = y1\n",
        "  \n",
        "    \n",
        "    ar = e1 > e and e2 > e and e3 > e\n",
        "    print(f'\\tx1 = {x1} y1 = {y1}  z1 = {z1}')\n",
        "    print(f'\\tError1 = {e1}  Error2 = {e2}  Error3 = {e3}') \n",
        "    print(\"\\t_______________________________________________________________________\\n\")    \n",
        "\n",
        "print(\"\\n\\nComprabacion\\n\")\n",
        "\n",
        "xx = fx(x1,y1,z1)\n",
        "yy = fy(x1,y1,z1)\n",
        "zz = fz(x1,y1,z1)\n",
        "\n",
        "print(f'1° {xx}\\n2° {yy}\\n3° {zz}')"
      ],
      "metadata": {
        "colab": {
          "base_uri": "https://localhost:8080/"
        },
        "id": "bDW7sUFGiuhm",
        "outputId": "7ff295c9-e738-46a1-afd9-3cf2efd92933"
      },
      "execution_count": null,
      "outputs": [
        {
          "output_type": "stream",
          "name": "stdout",
          "text": [
            "y1 = 0  z1 = 0  x1 = 4.0 \n",
            "\n",
            "\tx1 = 4.0 y1 = 1.6  z1 = 1.897142857142857\n",
            "\tError1 = 4.0  Error2 = 1.6  Error3 = 1.897142857142857\n",
            "\t_______________________________________________________________________\n",
            "\n",
            "\tx1 = 3.900952380952381 y1 = 1.7047619047619047  z1 = 1.8955646258503402\n",
            "\tError1 = 0.09904761904761905  Error2 = 0.10476190476190461  Error3 = 0.001578231292516774\n",
            "\t_______________________________________________________________________\n",
            "\n",
            "\n",
            "\n",
            "Comprabacion\n",
            "\n",
            "1° 11.89365986394558\n",
            "2° 10.000394557823128\n",
            "3° 14.0\n"
          ]
        }
      ]
    }
  ]
}