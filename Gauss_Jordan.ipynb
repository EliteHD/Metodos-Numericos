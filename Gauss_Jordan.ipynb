{
  "nbformat": 4,
  "nbformat_minor": 0,
  "metadata": {
    "colab": {
      "provenance": []
    },
    "kernelspec": {
      "name": "python3",
      "display_name": "Python 3"
    },
    "language_info": {
      "name": "python"
    }
  },
  "cells": [
    {
      "cell_type": "code",
      "execution_count": null,
      "metadata": {
        "colab": {
          "base_uri": "https://localhost:8080/"
        },
        "id": "d1Kim0CV3XPD",
        "outputId": "202663ea-0ed7-4288-b5dc-e5dd45630b42"
      },
      "outputs": [
        {
          "output_type": "stream",
          "name": "stdout",
          "text": [
            "No. Columnas\n",
            "3\n",
            "[ 0 0 ] >>\n",
            "Valor:3\n",
            "[ 0 1 ] >>\n",
            "Valor:-1\n",
            "[ 0 2 ] >>\n",
            "Valor:1\n",
            "[ 0 3 ] >>\n",
            "Valor:12\n",
            "[ 1 0 ] >>\n",
            "Valor:0.5\n",
            "[ 1 1 ] >>\n",
            "Valor:5\n",
            "[ 1 2 ] >>\n",
            "Valor:-0.25\n",
            "[ 1 3 ] >>\n",
            "Valor:10\n",
            "[ 2 0 ] >>\n",
            "Valor:0.1\n",
            "[ 2 1 ] >>\n",
            "Valor:0.2\n",
            "[ 2 2 ] >>\n",
            "Valor:7\n",
            "[ 2 3 ] >>\n",
            "Valor:14\n",
            "\n",
            "Matriz \n",
            "\n",
            "[[ 3.   -1.    1.   12.  ]\n",
            " [ 0.5   5.   -0.25 10.  ]\n",
            " [ 0.1   0.2   7.   14.  ]]\n",
            "Gauss\n",
            "\n",
            "[[1.         0.         0.         3.9353498 ]\n",
            " [0.         1.         0.         1.70122374]\n",
            " [0.         0.         1.         1.89517432]]\n",
            "RESULTADOS\n",
            "\n",
            "[[3.9353498 ]\n",
            " [1.70122374]\n",
            " [1.89517432]]\n"
          ]
        },
        {
          "output_type": "execute_result",
          "data": {
            "text/plain": [
              "0"
            ]
          },
          "metadata": {},
          "execution_count": 3
        }
      ],
      "source": [
        "# Autor: Josias Dominguez Hernández\n",
        "# Metodos Numericos\n",
        "\n",
        "import numpy as np\n",
        "\n",
        "n = int(input(\"No. Columnas\\n\"))\n",
        "col = []\n",
        "col3=[]\n",
        "for i in range(n):\n",
        "    row = []\n",
        "    row2=[]\n",
        "    for j in range(0,n+1):\n",
        "        print(\"[\",i,j,\"] >>\")\n",
        "        t = float(input(\"Valor:\"))\n",
        "        row.append(t)\n",
        "        row2.append(t)\n",
        "    col.append(row)\n",
        "    col3.append(row2)\n",
        "A = np.matrix(col)\n",
        "Z= np.matrix(col3)\n",
        "print(\"\\nMatriz \\n\")\n",
        "print(A)\n",
        "\n",
        "\n",
        "for i in range(n):\n",
        "    for j in range(n):\n",
        "        A[i,:] = A[i,:]/A[i,i]\n",
        "        if i != j:\n",
        "            factor = A[j,i]/A[i,i]\n",
        "            for k in range(n+1):\n",
        "                A[j,k]=A[j,k]-factor*A[i,k]\n",
        "      \n",
        "\n",
        "print(\"Gauss\\n\")\n",
        "print(A)\n",
        "\n",
        "print(\"RESULTADOS\\n\")\n",
        "print(A[:,n])\n"
      ]
    },
    {
      "cell_type": "code",
      "source": [
        "# Multiplicacion \n",
        "a1 = np.array([[3,-1,1],[0.5,5,-0.25],[0.1,0.2,7]])\n",
        "solucion = np.matmul(a1,A[:,n])\n",
        "\n",
        "print(solucion)"
      ],
      "metadata": {
        "colab": {
          "base_uri": "https://localhost:8080/"
        },
        "id": "xb6a0FOX4neM",
        "outputId": "e2a02fe9-40ec-4785-8fae-932814a35b79"
      },
      "execution_count": null,
      "outputs": [
        {
          "output_type": "stream",
          "name": "stdout",
          "text": [
            "[[12.]\n",
            " [10.]\n",
            " [14.]]\n"
          ]
        }
      ]
    }
  ]
}